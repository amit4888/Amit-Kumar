{
  "nbformat": 4,
  "nbformat_minor": 0,
  "metadata": {
    "colab": {
      "provenance": [],
      "include_colab_link": true
    },
    "kernelspec": {
      "name": "python3",
      "display_name": "Python 3"
    },
    "language_info": {
      "name": "python"
    }
  },
  "cells": [
    {
      "cell_type": "markdown",
      "metadata": {
        "id": "view-in-github",
        "colab_type": "text"
      },
      "source": [
        "<a href=\"https://colab.research.google.com/github/amit4888/Amit-Kumar/blob/main/Assignment_1.ipynb\" target=\"_parent\"><img src=\"https://colab.research.google.com/assets/colab-badge.svg\" alt=\"Open In Colab\"/></a>"
      ]
    },
    {
      "cell_type": "code",
      "execution_count": null,
      "metadata": {
        "colab": {
          "base_uri": "https://localhost:8080/"
        },
        "id": "32AdqwsgIbJw",
        "outputId": "2a72ec05-4e30-469c-b16b-724969f7ac4b"
      },
      "outputs": [
        {
          "output_type": "stream",
          "name": "stdout",
          "text": [
            "array('i', [1, 2, 3, 4, 5, 6, 7, 8, 9, 10])\n",
            "<class 'array.array'>\n"
          ]
        }
      ],
      "source": [
        "# Question 1: Array Operations\n",
        "\n",
        "# a) Create an array named numbers containing 10 integer values.\n",
        "\n",
        "import array\n",
        "from array import *\n",
        "\n",
        "arr1 = array('i',[1,2,3,4,5,6,7,8,9,10])\n",
        "print(arr1)\n",
        "\n",
        "print(type(arr1))"
      ]
    },
    {
      "cell_type": "code",
      "source": [
        "# b) Calculate and display the sum of all the numbers in the array.\n",
        "\n",
        "import array\n",
        "from array import *\n",
        "arr2 = array('i',[1,2,3,4,5])\n",
        "sum = 0\n",
        "for elements in arr2:\n",
        "    sum = sum + elements\n",
        "print(\"The sum is : \", sum)"
      ],
      "metadata": {
        "colab": {
          "base_uri": "https://localhost:8080/"
        },
        "id": "t15jZk9mIr7k",
        "outputId": "e4f070f0-c8c5-4944-b452-0a74b2c94b92"
      },
      "execution_count": null,
      "outputs": [
        {
          "output_type": "stream",
          "name": "stdout",
          "text": [
            "The sum is :  15\n"
          ]
        }
      ]
    },
    {
      "cell_type": "code",
      "source": [
        "# c) Calculate and display the average of the numbers\n",
        "\n",
        "import array\n",
        "from array import *\n",
        "arr3 = array('i',[10,20,30,40,50])\n",
        "\n",
        "sum = 0\n",
        "for elements in arr3:\n",
        "    sum += elements\n",
        "print(sum)\n",
        "n = len(arr3)   # can also use, print(len(arr3))\n",
        "print(n)\n",
        "\n",
        "print(\"THE AVERAGE IS : \", sum)"
      ],
      "metadata": {
        "colab": {
          "base_uri": "https://localhost:8080/"
        },
        "id": "iUklahGGI88a",
        "outputId": "9b07eca8-bbe4-40d1-efc9-3884c8edeb08"
      },
      "execution_count": null,
      "outputs": [
        {
          "output_type": "stream",
          "name": "stdout",
          "text": [
            "150\n",
            "5\n",
            "THE AVERAGE IS :  150\n"
          ]
        }
      ]
    },
    {
      "cell_type": "code",
      "source": [
        "# d) Find and display the maximum and minimum values in the array\n",
        "\n",
        "# how to solve this ques.\n",
        "# step 1 : sort array\n",
        "# step 2 : print 1 element\n",
        "# conclusion : In this way the first element in array is always min AND LAST IS MAX.\n",
        "\n",
        "\n",
        "import array\n",
        "from array import *\n",
        "#defining a funtion\n",
        "def pairwise_swap(arr):\n",
        "    n=len(arr)\n",
        "    for i in range(0, n-1):\n",
        "        for j in range (0, n-i-1):\n",
        "            if arr[j]>arr[j+1]:\n",
        "                arr[j],arr[j+1]=arr[j+1],arr[j]\n",
        "\n",
        "\n",
        "# ending the function\n",
        "# Defining the array\n",
        "\n",
        "arr1 = array('i',[100,99,58,45,34,21,23,56,78,54])\n",
        "\n",
        "# calling the function\n",
        "\n",
        "pairwise_swap(arr1)\n",
        "print(arr1)\n",
        "\n",
        "print(\"min is : \",arr1[0])\n",
        "print(\"max is : \",arr1[-1])"
      ],
      "metadata": {
        "colab": {
          "base_uri": "https://localhost:8080/"
        },
        "id": "XLsSeQLiJDgd",
        "outputId": "7a3f5299-b462-48e4-ac64-8265b3fa204a"
      },
      "execution_count": null,
      "outputs": [
        {
          "output_type": "stream",
          "name": "stdout",
          "text": [
            "array('i', [21, 23, 34, 45, 54, 56, 58, 78, 99, 100])\n",
            "min is :  21\n",
            "max is :  100\n"
          ]
        }
      ]
    },
    {
      "cell_type": "code",
      "source": [
        "# Question 2: Array Manipulation\n",
        "\n",
        "# a) Create an array of 8 names\n",
        "\n",
        "import array\n",
        "from array import *\n",
        "arr8 = array('i',[1,2,3,4,5,6,7,8])\n",
        "print(\"The original array : \",arr8)\n",
        "\n",
        "\n",
        "# b) Add two more names to the array.\n",
        "\n",
        "arr8.append(9)\n",
        "arr8.append(10)\n",
        "print(\"\\nAfter add two elements : \", arr8)\n",
        "\n",
        "\n",
        "# c) Replace the 4th name in the array with a new name\n",
        "\n",
        "arr8.pop(3)\n",
        "print(\"\\nAfter replace 4th item : \", arr8)\n",
        "\n",
        "\n",
        "# d) Remove the last name from the array.\n",
        "\n",
        "arr8.pop(-1)\n",
        "print(\"\\nAfter remove last element : \", arr8)\n",
        "\n",
        "\n",
        "# e) Display the final array of names.\n",
        "\n",
        "print(\"\\nThe final array is : \",arr8)"
      ],
      "metadata": {
        "colab": {
          "base_uri": "https://localhost:8080/"
        },
        "id": "pffdqeVYJVxL",
        "outputId": "1938c14c-598f-4908-c1cb-692da16430c3"
      },
      "execution_count": null,
      "outputs": [
        {
          "output_type": "stream",
          "name": "stdout",
          "text": [
            "The original array :  array('i', [1, 2, 3, 4, 5, 6, 7, 8])\n",
            "\n",
            "After add two elements :  array('i', [1, 2, 3, 4, 5, 6, 7, 8, 9, 10])\n",
            "\n",
            "After replace 4th item :  array('i', [1, 2, 3, 5, 6, 7, 8, 9, 10])\n",
            "\n",
            "After remove last element :  array('i', [1, 2, 3, 5, 6, 7, 8, 9])\n",
            "\n",
            "The final array is :  array('i', [1, 2, 3, 5, 6, 7, 8, 9])\n"
          ]
        }
      ]
    },
    {
      "cell_type": "code",
      "source": [
        "# Question 3: Searching in Arrays\n",
        "\n",
        "#a) Create an array of 15 random integers.\n",
        "\n",
        "import array\n",
        "import random\n",
        "\n",
        "# Create an array of 12 integers in random order\n",
        "original_array = array.array('i', [random.randint(1, 100) for _ in range(15)])\n",
        "print(len(original_array))\n",
        "\n",
        "# b) Prompt the user to enter a number to search for in the array.\n",
        "\n",
        "search_number = int(input(\"Enter a number to search for in the array: \"))\n",
        "print(search_number)\n",
        "\n",
        "# c) Check if the user's input exists in the array and display an appropriate message.\n",
        "\n",
        "if search_number in arr8:\n",
        "    print(f\"{search_number} is in the array.\")\n",
        "    #ALSO USE, print(search_number, \"is in the array.\")\n",
        "else:\n",
        "    print(f\"{search_number} is not in the array.\")\n",
        "    #ALSO USE, print(search_number, \"is not in the array.\")\n",
        "\n",
        "\n",
        "# NOTE : The f\"{search_number} is in the array.\" is an f-string.\n",
        "# It dynamically inserts the value of the search_number variable into the string."
      ],
      "metadata": {
        "colab": {
          "base_uri": "https://localhost:8080/"
        },
        "id": "9VOZvl_kKW3T",
        "outputId": "212703de-bfdc-4b0e-ea86-59d22b30e484"
      },
      "execution_count": null,
      "outputs": [
        {
          "output_type": "stream",
          "name": "stdout",
          "text": [
            "15\n",
            "Enter a number to search for in the array: 94834739\n",
            "94834739\n",
            "94834739 is not in the array.\n"
          ]
        }
      ]
    },
    {
      "cell_type": "code",
      "source": [
        "# Question 4: Array Sorting\n",
        "\n",
        "\n",
        "# a) Create an array of 12 integers in random order.\n",
        "\n",
        "import array\n",
        "import random\n",
        "\n",
        "# Create an array of 12 integers in random order\n",
        "original_array = array.array('i', [random.randint(1, 100) for _ in range(12)])\n",
        "\n",
        "\n",
        "# b) Arrange the array in reverse order.\n",
        "\n",
        "original_array.reverse()\n",
        "\n",
        "\n",
        "# c) Display both the arrays.\n",
        "\n",
        "print(\"Original Array:\", original_array)\n",
        "reversed_array = array.array('i', original_array)\n",
        "reversed_array.reverse()\n",
        "print(\"Reversed Array:\", reversed_array)\n",
        "print(type(original_array))"
      ],
      "metadata": {
        "id": "4yN_zkMzKuFq",
        "colab": {
          "base_uri": "https://localhost:8080/"
        },
        "outputId": "38ac35cc-eb42-4eca-c57b-7213c89a9ff8"
      },
      "execution_count": null,
      "outputs": [
        {
          "output_type": "stream",
          "name": "stdout",
          "text": [
            "Original Array: array('i', [74, 3, 37, 68, 95, 27, 30, 86, 18, 4, 22, 86])\n",
            "Reversed Array: array('i', [86, 22, 4, 18, 86, 30, 27, 95, 68, 37, 3, 74])\n",
            "<class 'array.array'>\n"
          ]
        }
      ]
    },
    {
      "cell_type": "code",
      "source": [],
      "metadata": {
        "id": "hM3tcd3gRe2J"
      },
      "execution_count": null,
      "outputs": []
    }
  ]
}